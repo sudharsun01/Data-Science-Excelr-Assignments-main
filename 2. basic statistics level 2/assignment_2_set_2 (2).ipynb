{
  "nbformat": 4,
  "nbformat_minor": 0,
  "metadata": {
    "colab": {
      "provenance": [],
      "toc_visible": true
    },
    "kernelspec": {
      "name": "python3",
      "display_name": "Python 3"
    },
    "language_info": {
      "name": "python"
    }
  },
  "cells": [
    {
      "cell_type": "markdown",
      "source": [
        "# Q) 1"
      ],
      "metadata": {
        "id": "DrH5JAgOzLSO"
      }
    },
    {
      "cell_type": "code",
      "source": [
        "import pandas as pd\n",
        "import numpy as np\n",
        "import matplotlib.pyplot as plt\n",
        "import seaborn as sns\n",
        "\n",
        "from scipy import stats"
      ],
      "metadata": {
        "id": "rfXkBL90-3jw"
      },
      "execution_count": null,
      "outputs": []
    },
    {
      "cell_type": "code",
      "source": [
        "stats.norm.cdf(60,55,8)"
      ],
      "metadata": {
        "colab": {
          "base_uri": "https://localhost:8080/"
        },
        "id": "Ui5MkMiwr_vw",
        "outputId": "d6950dd2-f938-42cc-ff0e-3aa3d5bbf811"
      },
      "execution_count": null,
      "outputs": [
        {
          "output_type": "execute_result",
          "data": {
            "text/plain": [
              "0.7340144709512995"
            ]
          },
          "metadata": {},
          "execution_count": 11
        }
      ]
    },
    {
      "cell_type": "markdown",
      "source": [
        "the above value is the probability that service manager meet his commitment\n",
        "\n",
        "now to find the probability that service manager meet his commitment is that we have to subtract it with 1"
      ],
      "metadata": {
        "id": "msYMIBx7umtk"
      }
    },
    {
      "cell_type": "code",
      "source": [
        "1-stats.norm.cdf(60,55,8)"
      ],
      "metadata": {
        "colab": {
          "base_uri": "https://localhost:8080/"
        },
        "id": "oNFeyJ5BtBpB",
        "outputId": "a9abefa0-fcca-422d-bcc7-1f77719272c5"
      },
      "execution_count": null,
      "outputs": [
        {
          "output_type": "execute_result",
          "data": {
            "text/plain": [
              "0.26598552904870054"
            ]
          },
          "metadata": {},
          "execution_count": 12
        }
      ]
    },
    {
      "cell_type": "markdown",
      "source": [
        "hence the probabilty that service manager meet hsi commitment is 0.26598(approx.) which is option (B.)"
      ],
      "metadata": {
        "id": "LOldxnLwy0Tw"
      }
    },
    {
      "cell_type": "markdown",
      "source": [
        "# Q) 2"
      ],
      "metadata": {
        "id": "SPMgKnXc1obf"
      }
    },
    {
      "cell_type": "markdown",
      "source": [
        "A."
      ],
      "metadata": {
        "id": "2UZh4Bm743LA"
      }
    },
    {
      "cell_type": "code",
      "source": [
        "mean = 38\n",
        "std = 6"
      ],
      "metadata": {
        "id": "zf9E-Dcz1so7"
      },
      "execution_count": null,
      "outputs": []
    },
    {
      "cell_type": "code",
      "source": [
        "prob_older_than_44 = 1 - stats.norm.cdf(44,mean,std)\n",
        "prob_older_than_44"
      ],
      "metadata": {
        "colab": {
          "base_uri": "https://localhost:8080/"
        },
        "id": "XGxGvDmI2ej9",
        "outputId": "6e19bcba-5922-4de7-e654-559e1df08191"
      },
      "execution_count": null,
      "outputs": [
        {
          "output_type": "execute_result",
          "data": {
            "text/plain": [
              "0.15865525393145707"
            ]
          },
          "metadata": {},
          "execution_count": 15
        }
      ]
    },
    {
      "cell_type": "code",
      "source": [
        "prob_younger_than_38 = stats.norm.cdf(38,mean,std)\n",
        "prob_younger_than_38"
      ],
      "metadata": {
        "colab": {
          "base_uri": "https://localhost:8080/"
        },
        "id": "UbVe7Uej2wWO",
        "outputId": "b9363b0b-1c93-4c16-a019-7682c301e406"
      },
      "execution_count": null,
      "outputs": [
        {
          "output_type": "execute_result",
          "data": {
            "text/plain": [
              "0.5"
            ]
          },
          "metadata": {},
          "execution_count": 17
        }
      ]
    },
    {
      "cell_type": "code",
      "source": [
        "prob_between_38_and_44 = stats.norm.cdf(44,mean,std) - prob_younger_than_38\n",
        "prob_between_38_and_44"
      ],
      "metadata": {
        "colab": {
          "base_uri": "https://localhost:8080/"
        },
        "id": "tf4YtkzN3HRY",
        "outputId": "ffc44c0f-1b02-4c9e-996f-3a521d41adcf"
      },
      "execution_count": null,
      "outputs": [
        {
          "output_type": "execute_result",
          "data": {
            "text/plain": [
              "0.3413447460685429"
            ]
          },
          "metadata": {},
          "execution_count": 18
        }
      ]
    },
    {
      "cell_type": "code",
      "source": [
        "if (prob_older_than_44 > prob_between_38_and_44):\n",
        "  print(\"More employees at the processing center are oldest than 44 than between 38 and 44\")\n",
        "else:\n",
        "  print(\"More employees at the processing center are not oldest than 44 than between 38 and 44\")"
      ],
      "metadata": {
        "colab": {
          "base_uri": "https://localhost:8080/"
        },
        "id": "LsTLZPEO36RE",
        "outputId": "be8cab1f-9140-4669-c7d7-24440fb624e0"
      },
      "execution_count": null,
      "outputs": [
        {
          "output_type": "stream",
          "name": "stdout",
          "text": [
            "More employees at the processing center are not oldest than 44 than between 38 and 44\n"
          ]
        }
      ]
    },
    {
      "cell_type": "markdown",
      "source": [
        "B."
      ],
      "metadata": {
        "id": "4vBiGGLg46lC"
      }
    },
    {
      "cell_type": "code",
      "source": [
        "mean = 38\n",
        "std = 6"
      ],
      "metadata": {
        "id": "LLwcFuWx31as"
      },
      "execution_count": null,
      "outputs": []
    },
    {
      "cell_type": "code",
      "source": [
        "prob_under_30 = stats.norm.cdf(30,mean,std)\n",
        "prob_under_30"
      ],
      "metadata": {
        "colab": {
          "base_uri": "https://localhost:8080/"
        },
        "id": "ooCrDlFA4_XS",
        "outputId": "1d5bc432-14d5-4e24-a016-df762e109fed"
      },
      "execution_count": null,
      "outputs": [
        {
          "output_type": "execute_result",
          "data": {
            "text/plain": [
              "0.09121121972586788"
            ]
          },
          "metadata": {},
          "execution_count": 27
        }
      ]
    },
    {
      "cell_type": "code",
      "source": [
        "expected_employees_under_30 = prob_under_30 * 400\n",
        "expected_employees_under_30"
      ],
      "metadata": {
        "colab": {
          "base_uri": "https://localhost:8080/"
        },
        "id": "GA5jjA63-VNJ",
        "outputId": "810bee58-fa57-4030-95df-31016237a77f"
      },
      "execution_count": null,
      "outputs": [
        {
          "output_type": "execute_result",
          "data": {
            "text/plain": [
              "36.484487890347154"
            ]
          },
          "metadata": {},
          "execution_count": 30
        }
      ]
    },
    {
      "cell_type": "code",
      "source": [
        "if (round(expected_employees_under_30) == 36):\n",
        "  print (\"A training program for employees under the age of 30 at the center would be expected to attract about 36 employees.\")\n",
        "else:\n",
        "  print (\"A training program for employees under the age of 30 at the centrer would not be expected to attract about 36 employees.\")"
      ],
      "metadata": {
        "colab": {
          "base_uri": "https://localhost:8080/"
        },
        "id": "Wk3UK1TW-iyd",
        "outputId": "fdd77fd1-1570-4600-d642-14ff9047288f"
      },
      "execution_count": null,
      "outputs": [
        {
          "output_type": "stream",
          "name": "stdout",
          "text": [
            "A training program for employees under the age of 30 at the center would be expected to attract about 36 employees.\n"
          ]
        }
      ]
    },
    {
      "cell_type": "markdown",
      "source": [
        "# Q) 4"
      ],
      "metadata": {
        "id": "UMv0ZTNwAbxg"
      }
    },
    {
      "cell_type": "code",
      "source": [
        "a_and_b_values = np.round(stats.norm.interval(0.99,100,20),1)"
      ],
      "metadata": {
        "id": "OmmiPkfNJn4r"
      },
      "execution_count": null,
      "outputs": []
    },
    {
      "cell_type": "code",
      "source": [
        "print (\"The two values, a and b, symmetric about the mean, such that the probability of the random variable taking a value between them is 0.99 is \",a_and_b_values)"
      ],
      "metadata": {
        "colab": {
          "base_uri": "https://localhost:8080/"
        },
        "id": "4WyqsMiAJpaB",
        "outputId": "d138ca51-b193-4ea8-f085-60a7f795bcb3"
      },
      "execution_count": null,
      "outputs": [
        {
          "output_type": "stream",
          "name": "stdout",
          "text": [
            "The two values, a and b, symmetric about the mean, such that the probability of the random variable taking a value between them is 0.99 is  [ 48.5 151.5]\n"
          ]
        }
      ]
    },
    {
      "cell_type": "markdown",
      "source": [
        "# Q) 5"
      ],
      "metadata": {
        "id": "OferkCfJTQTO"
      }
    },
    {
      "cell_type": "code",
      "source": [
        "import pandas as pd\n",
        "import numpy as np\n",
        "from scipy import stats"
      ],
      "metadata": {
        "id": "x1WAcxCeKiCp"
      },
      "execution_count": null,
      "outputs": []
    },
    {
      "cell_type": "markdown",
      "source": [
        "A."
      ],
      "metadata": {
        "id": "0-fP7KbDWOaf"
      }
    },
    {
      "cell_type": "code",
      "source": [
        "stats.norm.interval(0.95,540,225)"
      ],
      "metadata": {
        "colab": {
          "base_uri": "https://localhost:8080/"
        },
        "id": "PiUD5sshTfMy",
        "outputId": "393e6dcf-e2df-446f-ce3f-9ed7589414d5"
      },
      "execution_count": null,
      "outputs": [
        {
          "output_type": "execute_result",
          "data": {
            "text/plain": [
              "(99.00810347848784, 980.9918965215122)"
            ]
          },
          "metadata": {},
          "execution_count": 2
        }
      ]
    },
    {
      "cell_type": "markdown",
      "source": [
        "C."
      ],
      "metadata": {
        "id": "75Rjjf1kXedm"
      }
    },
    {
      "cell_type": "code",
      "source": [
        "#probability of division 1 making a loss\n",
        "div_1 = stats.norm.cdf(0,5,3)"
      ],
      "metadata": {
        "id": "HKZr_CPbXLXT"
      },
      "execution_count": null,
      "outputs": []
    },
    {
      "cell_type": "code",
      "source": [
        "#probabiliy of division 2 making a loss\n",
        "div_2 = stats.norm.cdf(0,7,3)"
      ],
      "metadata": {
        "id": "mVPNENVbXsu2"
      },
      "execution_count": null,
      "outputs": []
    },
    {
      "cell_type": "code",
      "source": [
        "if (div_1 > div_2):\n",
        "  print (\" The Division 2 (Profit2 ~ N(7,16)) has a larger Probability of making a loss in a given year \")\n",
        "else:\n",
        "  print (\"The Division 1 (Profit1 ~ N(5,9)) has a larger Probability of making a loss in a given year \")"
      ],
      "metadata": {
        "colab": {
          "base_uri": "https://localhost:8080/"
        },
        "id": "155keS61X5tM",
        "outputId": "cfe7aa8a-4622-4058-d1d1-b097c4718ccc"
      },
      "execution_count": null,
      "outputs": [
        {
          "output_type": "stream",
          "name": "stdout",
          "text": [
            " The Division 2 (Profit2 ~ N(7,16)) has a larger Probability of making a loss in a given year \n"
          ]
        }
      ]
    }
  ]
}