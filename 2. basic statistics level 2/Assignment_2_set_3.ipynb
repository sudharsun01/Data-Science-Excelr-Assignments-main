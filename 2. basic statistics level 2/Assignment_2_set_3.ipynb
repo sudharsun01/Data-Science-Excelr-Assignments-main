{
  "nbformat": 4,
  "nbformat_minor": 0,
  "metadata": {
    "colab": {
      "provenance": [],
      "toc_visible": true
    },
    "kernelspec": {
      "name": "python3",
      "display_name": "Python 3"
    },
    "language_info": {
      "name": "python"
    }
  },
  "cells": [
    {
      "cell_type": "markdown",
      "source": [
        "# Q) 5. I"
      ],
      "metadata": {
        "id": "0uT-HeqpZ4EQ"
      }
    },
    {
      "cell_type": "code",
      "source": [
        "import pandas as pd\n",
        "import numpy as np\n",
        "from scipy import stats"
      ],
      "metadata": {
        "id": "2Z59sxhSZ7Rs"
      },
      "execution_count": null,
      "outputs": []
    },
    {
      "cell_type": "code",
      "source": [
        "#population assumed by Microsoft\n",
        "p_h0 = 0.05"
      ],
      "metadata": {
        "id": "rU0oXKWPEdYO"
      },
      "execution_count": null,
      "outputs": []
    },
    {
      "cell_type": "code",
      "source": [
        "#Sample size\n",
        "n = 2000"
      ],
      "metadata": {
        "id": "zgwMmk5iEzvZ"
      },
      "execution_count": null,
      "outputs": []
    },
    {
      "cell_type": "code",
      "source": [
        "#Sample from reported data\n",
        "p_sample = 0.046"
      ],
      "metadata": {
        "id": "7pommnHGE3vz"
      },
      "execution_count": null,
      "outputs": []
    },
    {
      "cell_type": "code",
      "source": [
        "#calcuating the standarad error\n",
        "standard_error = ((p_h0 * (1-p_h0)) / n) ** 0.5\n",
        "standard_error"
      ],
      "metadata": {
        "colab": {
          "base_uri": "https://localhost:8080/"
        },
        "id": "MsX1Qfz5FB2q",
        "outputId": "640840ef-e762-41d3-e224-1d9fe3bbe62f"
      },
      "execution_count": null,
      "outputs": [
        {
          "output_type": "execute_result",
          "data": {
            "text/plain": [
              "0.004873397172404482"
            ]
          },
          "metadata": {},
          "execution_count": 22
        }
      ]
    },
    {
      "cell_type": "code",
      "source": [
        "#Z-score\n",
        "z_score = (p_sample - p_h0) / standard_error\n",
        "z_score"
      ],
      "metadata": {
        "colab": {
          "base_uri": "https://localhost:8080/"
        },
        "id": "-2Qn4A6TFh88",
        "outputId": "f0262038-3bfd-4c2c-ea6c-c07b41a4925c"
      },
      "execution_count": null,
      "outputs": [
        {
          "output_type": "execute_result",
          "data": {
            "text/plain": [
              "-0.820782681668124"
            ]
          },
          "metadata": {},
          "execution_count": 23
        }
      ]
    },
    {
      "cell_type": "code",
      "source": [
        "p_value = 2 * (1 - stats.norm.cdf(abs(z_score)))\n",
        "p_value"
      ],
      "metadata": {
        "colab": {
          "base_uri": "https://localhost:8080/"
        },
        "id": "Ft_I1oQ3F8Ks",
        "outputId": "f5ec7ede-114e-4b9b-9096-890ed28d04b5"
      },
      "execution_count": null,
      "outputs": [
        {
          "output_type": "execute_result",
          "data": {
            "text/plain": [
              "0.4117700649021421"
            ]
          },
          "metadata": {},
          "execution_count": 24
        }
      ]
    },
    {
      "cell_type": "code",
      "source": [
        "#significance level\n",
        "alpha = 0.05"
      ],
      "metadata": {
        "id": "bfUqTUuzGWwm"
      },
      "execution_count": null,
      "outputs": []
    },
    {
      "cell_type": "code",
      "source": [
        "if p_value < alpha:\n",
        "    print(\"Microsoft can conclude that Mozilla has a less than 5% share of the market.\")\n",
        "else:\n",
        "    print(\"Microsoft cannot conclude that Mozilla has a less than 5% share of the market.\")"
      ],
      "metadata": {
        "colab": {
          "base_uri": "https://localhost:8080/"
        },
        "id": "pCyy3U5cGFtC",
        "outputId": "351fc478-bbdf-4a30-e0de-22a23cc20bf3"
      },
      "execution_count": null,
      "outputs": [
        {
          "output_type": "stream",
          "name": "stdout",
          "text": [
            "Microsoft cannot conclude that Mozilla has a less than 5% share of the market.\n"
          ]
        }
      ]
    }
  ]
}