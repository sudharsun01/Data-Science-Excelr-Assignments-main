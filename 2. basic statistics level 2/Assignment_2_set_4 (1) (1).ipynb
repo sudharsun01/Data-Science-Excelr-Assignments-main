{
  "nbformat": 4,
  "nbformat_minor": 0,
  "metadata": {
    "colab": {
      "provenance": []
    },
    "kernelspec": {
      "name": "python3",
      "display_name": "Python 3"
    },
    "language_info": {
      "name": "python"
    }
  },
  "cells": [
    {
      "cell_type": "markdown",
      "source": [
        "## 3"
      ],
      "metadata": {
        "id": "5DF9-wnHSzZJ"
      }
    },
    {
      "cell_type": "code",
      "execution_count": 2,
      "metadata": {
        "id": "r-JlqB0TRRmu"
      },
      "outputs": [],
      "source": [
        "from scipy import stats"
      ]
    },
    {
      "cell_type": "code",
      "source": [
        "z1 = -1.25\n",
        "z2 = 1.25"
      ],
      "metadata": {
        "id": "r3KaErMmRcvK"
      },
      "execution_count": 3,
      "outputs": []
    },
    {
      "cell_type": "code",
      "source": [
        "prob_z1 = stats.norm.cdf(z1)\n",
        "prob_z2 = stats.norm.cdf(z2)\n",
        "print(prob_z1,\"\", prob_z2)"
      ],
      "metadata": {
        "colab": {
          "base_uri": "https://localhost:8080/"
        },
        "id": "2hz4NOJPRhuW",
        "outputId": "a49b49ef-9be8-4aef-8c29-ae847361de68"
      },
      "execution_count": 4,
      "outputs": [
        {
          "output_type": "stream",
          "name": "stdout",
          "text": [
            "0.10564977366685535  0.8943502263331446\n"
          ]
        }
      ]
    },
    {
      "cell_type": "code",
      "source": [
        "# probability of P(45 < x < 55)\n",
        "prob_between = prob_z2 - prob_z1\n",
        "prob_between"
      ],
      "metadata": {
        "colab": {
          "base_uri": "https://localhost:8080/"
        },
        "id": "4tBfx0hrRkSD",
        "outputId": "9dfecff5-41f2-444b-cddc-a742f25045fd"
      },
      "execution_count": 5,
      "outputs": [
        {
          "output_type": "execute_result",
          "data": {
            "text/plain": [
              "0.7887004526662893"
            ]
          },
          "metadata": {},
          "execution_count": 5
        }
      ]
    },
    {
      "cell_type": "code",
      "source": [
        "#the probability that in any given week\n",
        "1 - prob_between"
      ],
      "metadata": {
        "colab": {
          "base_uri": "https://localhost:8080/"
        },
        "id": "27FTwituRn3X",
        "outputId": "203d6c3a-527a-42f0-beee-f1417d80314b"
      },
      "execution_count": 10,
      "outputs": [
        {
          "output_type": "execute_result",
          "data": {
            "text/plain": [
              "0.2112995473337107"
            ]
          },
          "metadata": {},
          "execution_count": 10
        }
      ]
    },
    {
      "cell_type": "code",
      "source": [
        "(1 - prob_between) * 100"
      ],
      "metadata": {
        "colab": {
          "base_uri": "https://localhost:8080/"
        },
        "id": "m1juUenKjxIM",
        "outputId": "78828767-4d5a-4faf-eeef-ff4e280ee0f5"
      },
      "execution_count": 11,
      "outputs": [
        {
          "output_type": "execute_result",
          "data": {
            "text/plain": [
              "21.129954733371072"
            ]
          },
          "metadata": {},
          "execution_count": 11
        }
      ]
    },
    {
      "cell_type": "markdown",
      "source": [
        "Which is Answer D"
      ],
      "metadata": {
        "id": "ttLK9J8ZStyg"
      }
    }
  ]
}